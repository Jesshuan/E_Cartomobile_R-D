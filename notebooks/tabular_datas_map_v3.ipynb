{
 "cells": [
  {
   "cell_type": "code",
   "execution_count": null,
   "metadata": {},
   "outputs": [],
   "source": [
    "# from tqdm.notebook import tqdm\n",
    "# from tqdm import tqdm\n",
    "\n",
    "import os\n",
    "os.environ['USE_PYGEOS'] = '0'\n",
    "\n",
    "# Data management\n",
    "import pandas as pd\n",
    "import geopandas as gpd\n",
    "import numpy as np\n",
    "\n",
    "\n",
    "# Visualisation\n",
    "import matplotlib.pyplot as plt\n",
    "import seaborn as sns\n",
    "import folium\n",
    "from folium.features import Choropleth\n",
    "from folium.plugins import MarkerCluster\n",
    "\n",
    "# Preprocessing\n",
    "from sklearn.preprocessing import StandardScaler\n",
    "import umap\n",
    "\n",
    "\n",
    "# I/O\n",
    "import gc\n",
    "import io, requests\n",
    "import zipfile, shutil\n",
    "import joblib\n",
    "\n",
    "# tqdm().pandas()\n",
    "\n",
    "# data_path = 'C:/Users/demo/Desktop/Lattitude/datas/'\n",
    "data_path = 'datas'\n",
    "os.makedirs(data_path, exist_ok=True)"
   ]
  },
  {
   "attachments": {},
   "cell_type": "markdown",
   "metadata": {},
   "source": [
    "# Datas"
   ]
  },
  {
   "cell_type": "code",
   "execution_count": null,
   "metadata": {},
   "outputs": [],
   "source": [
    "# Load the data for French garge points\n",
    "file_name = 'dataset_charge_points.feather'\n",
    "\n",
    "bornes = gpd.read_feather(os.path.join(data_path, file_name))\n",
    "\n",
    "# Load the data for the communes\n",
    "file_name = 'dataset_communes.feather'\n",
    "\n",
    "datas = gpd.read_feather(os.path.join(data_path, file_name))"
   ]
  },
  {
   "attachments": {},
   "cell_type": "markdown",
   "metadata": {},
   "source": [
    "-------------------------"
   ]
  },
  {
   "attachments": {},
   "cell_type": "markdown",
   "metadata": {},
   "source": [
    "# Create some metric on electrics stuff"
   ]
  },
  {
   "cell_type": "code",
   "execution_count": null,
   "metadata": {},
   "outputs": [],
   "source": [
    "datas['VE_pct'] = datas.nb_vp_rechargeables_el / datas.nb_vp\n",
    "datas['VE_per_inhab'] = datas.nb_vp_rechargeables_el / datas.PMUN\n",
    "datas['VE_per_ha'] = datas.nb_vp_rechargeables_el / datas.surf_ha\n"
   ]
  },
  {
   "attachments": {},
   "cell_type": "markdown",
   "metadata": {},
   "source": [
    "# Select a region"
   ]
  },
  {
   "cell_type": "code",
   "execution_count": null,
   "metadata": {},
   "outputs": [],
   "source": [
    "display(set(datas.region_name), set(datas.columns) )"
   ]
  },
  {
   "cell_type": "code",
   "execution_count": null,
   "metadata": {},
   "outputs": [],
   "source": [
    "REGION = 'Grand Est'"
   ]
  },
  {
   "cell_type": "code",
   "execution_count": null,
   "metadata": {},
   "outputs": [],
   "source": [
    "datas = datas.query(\"region_name == @REGION\")\n",
    "bornes = bornes.query(\"region_name == @REGION\")"
   ]
  },
  {
   "cell_type": "code",
   "execution_count": null,
   "metadata": {},
   "outputs": [],
   "source": [
    "datas.sort_values(by='date_arrete',ascending=True, inplace=True)"
   ]
  },
  {
   "attachments": {},
   "cell_type": "markdown",
   "metadata": {},
   "source": [
    "---------------------------------------------------------------------------------------"
   ]
  },
  {
   "attachments": {},
   "cell_type": "markdown",
   "metadata": {},
   "source": [
    "# Create HTML content for map popup"
   ]
  },
  {
   "cell_type": "code",
   "execution_count": null,
   "metadata": {},
   "outputs": [],
   "source": [
    "# list of columns from datas_ to be displayed\n",
    "datas_info_cols = datas.columns.tolist()\n",
    "datas_info_cols.remove('geometry')\n",
    "datas_info_cols.remove('wikipedia')\n",
    "\n",
    "\n",
    "\n",
    "texts = []\n",
    "\n",
    "# loop on rows\n",
    "for index, row in datas.iterrows():\n",
    "    text = ''\n",
    "    for col in datas_info_cols:\n",
    "        text += f'<b>{col}:</b> {row[col]}<br>'\n",
    "    texts.append(text)\n",
    "\n",
    "datas['html_popup'] = texts   \n",
    "del texts\n",
    "\n",
    "datas.html_popup.head(2)"
   ]
  },
  {
   "cell_type": "code",
   "execution_count": null,
   "metadata": {},
   "outputs": [],
   "source": [
    "# list of columns from datas_ to be displayed\n",
    "bornes_info_cols = bornes.columns.tolist()\n",
    "bornes_info_cols.remove('geometry')\n",
    "\n",
    "# Column names generator \n",
    "def split_list(list_a, chunk_size):\n",
    "  for i in range(0, len(list_a), chunk_size):\n",
    "    yield list_a[i:i + chunk_size]\n",
    "\n",
    "\n",
    "# Mise en page\n",
    "num_cols = 3\n",
    "width = 20\n",
    "px = np.ceil(width / num_cols / 2)\n",
    "\n",
    "texts = []\n",
    "\n",
    "# Loop on rows\n",
    "for index, row in bornes.iterrows():\n",
    "    text = f'<table style=\"width:{width}%\"><tr>'\n",
    "    for n in range(num_cols):\n",
    "       text += f'<td style=\"font-weight:bold\">{n}</td>'\n",
    "    \n",
    "    for cols in split_list(bornes_info_cols,num_cols):\n",
    "            text += '<tr>'\n",
    "            for col in cols:\n",
    "                    text += f'<th style=\"width:{px}%\"><b>{col}:</b><br> {row[col]}</th>' \n",
    "            text  += '</tr>' \n",
    "    text += '</table>'\n",
    "    texts.append(text)\n",
    "\n",
    "bornes['html_popup'] = texts   \n",
    "del texts\n",
    "\n",
    "bornes.html_popup.head(2)"
   ]
  },
  {
   "attachments": {},
   "cell_type": "markdown",
   "metadata": {},
   "source": [
    "------------------------------------------------------"
   ]
  },
  {
   "attachments": {},
   "cell_type": "markdown",
   "metadata": {},
   "source": [
    "# Map"
   ]
  },
  {
   "cell_type": "code",
   "execution_count": null,
   "metadata": {},
   "outputs": [],
   "source": [
    "datas.crs"
   ]
  },
  {
   "cell_type": "code",
   "execution_count": null,
   "metadata": {},
   "outputs": [],
   "source": [
    "from branca.colormap import linear, LinearColormap\n",
    "\n",
    "# Define the color map\n",
    "colors = [ 'red', 'green', 'blue']\n",
    "bins = np.array([0, 1, 5, 10, 25, 50, 100]) / 100\n",
    "\n",
    "labels = [1,2,3,4,5,6]\n",
    "\n",
    "cmap = LinearColormap(colors=colors, vmin=1, vmax=6)\n",
    "\n",
    "'''color argument of Icon should be one of: \n",
    "{'red', 'darkred', 'gray', 'blue', 'black', 'darkpurple', 'white', 'darkblue', \n",
    " 'purple', 'lightred', 'green', 'orange', 'cadetblue', 'beige', 'lightblue', \n",
    " 'lightgray', 'darkgreen', 'pink', 'lightgreen'}.'''\n",
    "icon_labels = ['darkred','lightred','lightgreen','darkgreen','lightblue','blue']\n",
    "\n",
    "# Function to make a column color \n",
    "def make_color(df, col='VE_per_inhab', color_type=None):\n",
    "    if color_type:\n",
    "        color =pd.cut( df[col], #.apply(lambda x:  x ** (1/3)),\n",
    "                        bins=bins, \n",
    "                        labels=icon_labels)\n",
    "    else:\n",
    "        color =pd.cut( df[col], #.apply(lambda x:  x ** (1/3)),\n",
    "                            bins=bins, \n",
    "                            labels=labels).apply(cmap)\n",
    "    return color\n",
    "\n",
    "\n",
    "\n"
   ]
  },
  {
   "cell_type": "code",
   "execution_count": null,
   "metadata": {},
   "outputs": [],
   "source": [
    "def make_color_by_date(df, date_col='date_arrete', col='VE_per_inhab', color_type=None, icons=None):\n",
    "    if icons:\n",
    "        df['color'] = 'white'\n",
    "    else:\n",
    "        df['color'] = '#000000'\n",
    "\n",
    "    for date in df[date_col].unique():\n",
    "        df.loc[df[date_col] == date,'color'] = make_color(df.loc[df[date_col] == date], col, icons)\n",
    "    \n",
    "    return df\n",
    "\n",
    "\n",
    "display(make_color_by_date(datas, 'VE_per_inhab').color.value_counts())\n",
    "\n",
    "display(make_color_by_date(datas, 'VE_per_inhab', icons='ok').color.value_counts())    \n"
   ]
  },
  {
   "cell_type": "code",
   "execution_count": null,
   "metadata": {},
   "outputs": [],
   "source": [
    "'''\n",
    "icons from https://fontawesome.com/v4/icons/\n",
    "\n",
    "'''\n",
    "from folium.plugins import MarkerCluster\n",
    "import math\n",
    "\n",
    "\n",
    "def make_map(com_df, pdc_df, color_col='VE_per_inhab'):\n",
    "\n",
    "\n",
    "    # Create a folium map centered on the first row of datas_\n",
    "    datas_centroid = com_df.iloc[0].geometry.centroid\n",
    "    # datas_centroid\n",
    "\n",
    "    # create a folium map\n",
    "    m = folium.Map(location=[datas_centroid.y,datas_centroid.x], zoom_start=6, crs='EPSG3857')\n",
    "\n",
    "    # Create a marker cluster layer for the data\n",
    "    cluster_com = MarkerCluster(name='Communes', )\n",
    "    cluster_color = MarkerCluster(name='colors')\n",
    "\n",
    "    # Create colors by binning the VE_per_inhab column\n",
    "    com_df = make_color_by_date(com_df, 'VE_per_inhab',icons='XXX')    \n",
    "\n",
    "    # communes markers\n",
    "    for index, row in com_df.iterrows():\n",
    "\n",
    "        # communes child markers\n",
    "        popup = folium.Popup(row.html_popup, parse_html=False)\n",
    "        cluster_com.add_child(folium.Marker(location=[\n",
    "                                                    row.geometry.centroid.y,\n",
    "                                                    row.geometry.centroid.x\n",
    "                                                ], \n",
    "                                            popup=popup, \n",
    "                                            tooltip=row.date_arrete,   #.strftime('%d/%m/%Y'),\n",
    "                                            icon=folium.Icon(\n",
    "                                                        prefix='fa', \n",
    "                                                        icon='institution', \n",
    "                                                        color=row.color\n",
    "                                                        )\n",
    "                                            )\n",
    "        )\n",
    "        \n",
    "        \n",
    "    cluster_com.add_to(m)\n",
    "    cluster_color.add_to(m)\n",
    "\n",
    "    # Create a marker cluster layer for the data\n",
    "    cluster_bdr = MarkerCluster(name='Points de charge')\n",
    "\n",
    "\n",
    "    # bornes markers\n",
    "    for index, row in pdc_df.iterrows():\n",
    "        popup = folium.Popup(row.html_popup, parse_html=False)\n",
    "        cluster_bdr.add_child(folium.Marker(location=[row.geometry.y, row.geometry.x], \n",
    "                                            popup=popup, \n",
    "                                            tooltip='pdc infos',\n",
    "                                            icon=folium.Icon(prefix='fa', icon='bolt', color='blue')))\n",
    "        \n",
    "    cluster_bdr.add_to(m)\n",
    "\n",
    "    # Add a layer control to the map\n",
    "    folium.LayerControl().add_to(m)\n",
    "\n",
    "    return m\n",
    "\n",
    "m = make_map(datas, bornes)\n",
    "\n",
    "display(m)\n",
    "\n"
   ]
  },
  {
   "cell_type": "code",
   "execution_count": null,
   "metadata": {},
   "outputs": [],
   "source": [
    "maps_path = 'datas/maps'\n",
    "os.makedirs(maps_path, exist_ok=True)\n",
    "\n",
    "file_name = f'Carte region {REGION}.html'\n",
    "\n",
    "m.save(os.path.join(maps_path,file_name))\n",
    "\n",
    "del m"
   ]
  },
  {
   "attachments": {},
   "cell_type": "markdown",
   "metadata": {},
   "source": [
    "-----------------------"
   ]
  },
  {
   "cell_type": "code",
   "execution_count": null,
   "metadata": {},
   "outputs": [],
   "source": [
    "# import minify_html\n",
    "\n",
    "# def schrink_html(file_name):\n",
    "#     input_file = os.path.join(maps_path, file_name + '.html')\n",
    "#     raw = open(input_file, \"r\").read()\n",
    "#     input_size = len(raw)\n",
    "\n",
    "#     schrinked = minify_html.minify(raw,\n",
    "#         # do_not_minify_doctype= True,\n",
    "#         ensure_spec_compliant_unquoted_attribute_values= True,\n",
    "#         keep_closing_tags= True,\n",
    "#         keep_html_and_head_opening_tags= True,\n",
    "#         keep_spaces_between_attributes= True,\n",
    "#         keep_comments= False,\n",
    "#         minify_css= True,\n",
    "#         minify_js= True,\n",
    "#         remove_bangs= True,\n",
    "#         remove_processing_instructions= True,\n",
    "#         )\n",
    "#     output_size = len(schrinked)\n",
    "\n",
    "#     print(f'Size  {input_file}: {input_size} | output: {output_size} | {output_size / input_size}')\n",
    "#     with open(os.path.join(maps_path, file_name + '_min.html'), \"w\") as output_file:\n",
    "#         output_file.write(schrinked)\n",
    "\n",
    "\n",
    "# schrink_html(os.path.join(maps_path,file_name))"
   ]
  }
 ],
 "metadata": {
  "kernelspec": {
   "display_name": "base",
   "language": "python",
   "name": "python3"
  },
  "language_info": {
   "codemirror_mode": {
    "name": "ipython",
    "version": 3
   },
   "file_extension": ".py",
   "mimetype": "text/x-python",
   "name": "python",
   "nbconvert_exporter": "python",
   "pygments_lexer": "ipython3",
   "version": "3.9.16"
  },
  "orig_nbformat": 4
 },
 "nbformat": 4,
 "nbformat_minor": 2
}
