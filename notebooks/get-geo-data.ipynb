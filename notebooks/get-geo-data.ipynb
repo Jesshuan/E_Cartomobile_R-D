{
 "cells": [
  {
   "cell_type": "markdown",
   "metadata": {},
   "source": [
    "# Communes françaises sur carte Folium\n",
    "\n",
    "- [x] Evaluer la faisabilité de récupérer les data des communes par l'API\n",
    "- [x] Afficher ces communes sur la carte Folium\n",
    "- [ ] Donner aux communes une couleur de fond différente\n",
    "- [x] Optimisation\n",
    "    - [x] utiliser GeoPandas pour simplifier les polygones avant de faire la carte\n",
    "    - [x] simplifier affichage si trop de polygones?"
   ]
  },
  {
   "cell_type": "markdown",
   "metadata": {},
   "source": [
    "## 1. Récupérer les communes françaises"
   ]
  },
  {
   "cell_type": "code",
   "execution_count": null,
   "metadata": {},
   "outputs": [],
   "source": [
    "import json\n",
    "import logging\n",
    "from pathlib import Path\n",
    "\n",
    "import branca\n",
    "import folium\n",
    "import geopandas as gpd\n",
    "import matplotlib.pyplot as plt\n",
    "import pandas as pd\n",
    "import requests\n",
    "from utils import DEPARTEMENTS\n",
    "\n",
    "logger = logging.getLogger()\n",
    "logging.basicConfig(level=\"INFO\")"
   ]
  },
  {
   "cell_type": "markdown",
   "metadata": {},
   "source": [
    "### 1.1. Liste des communes"
   ]
  },
  {
   "cell_type": "code",
   "execution_count": null,
   "metadata": {},
   "outputs": [],
   "source": [
    "def load_communes():\n",
    "    try:\n",
    "        response = requests.get(\"https://geo.api.gouv.fr/communes\")\n",
    "        if response.status_code != 200:\n",
    "            raise Exception(f\"Error when querying geo.api.gouv.fr: {response.status_code}\")\n",
    "        data = json.loads(response.content)\n",
    "        return data\n",
    "    except Exception as e:\n",
    "        raise e"
   ]
  },
  {
   "cell_type": "code",
   "execution_count": null,
   "metadata": {},
   "outputs": [],
   "source": [
    "communes_path = Path(\"communes.json\")\n",
    "\n",
    "if not communes_path.exists():\n",
    "    logger.info(\"Fetch commune data from https://geo.api.gouv.fr/communes\")\n",
    "    communes = load_communes()\n",
    "    with open(communes_path, \"w\") as file:\n",
    "        file.write(json.dumps(communes))\n",
    "    logger.info(f\"Commune data fetched and saved at {communes_path}\")\n",
    "else:\n",
    "    logger.info(\"Reading commune data from disk\")\n",
    "    with open(communes_path, \"r\") as file:\n",
    "        communes = json.loads(file.read())"
   ]
  },
  {
   "cell_type": "code",
   "execution_count": null,
   "metadata": {},
   "outputs": [],
   "source": [
    "len(communes)"
   ]
  },
  {
   "cell_type": "code",
   "execution_count": null,
   "metadata": {},
   "outputs": [],
   "source": [
    "communes[0]"
   ]
  },
  {
   "cell_type": "code",
   "execution_count": null,
   "metadata": {},
   "outputs": [],
   "source": [
    "# Very long to perform 35000 calls to the API, and not performance-friendly\n",
    "# Not used\n",
    "\n",
    "# def get_commune_geom(code: str):\n",
    "#    response = requests.get(f\"https://geo.api.gouv.fr/communes/{code}?fields=contour&format=geojson&geometry=contour\")\n",
    "#    if response.status_code != 200:\n",
    "#        raise Exception(f\"Error when querying geo.api.gouv.fr: {response.status_code}\")\n",
    "#    data = json.loads(response.content)\n",
    "#    return data"
   ]
  },
  {
   "cell_type": "markdown",
   "metadata": {},
   "source": [
    "### 1.2. Récupération des géométries par département"
   ]
  },
  {
   "cell_type": "code",
   "execution_count": null,
   "metadata": {},
   "outputs": [],
   "source": [
    "# Get a sorted list of all unique department codes\n",
    "\n",
    "departements = sorted(list(set(c[\"codeDepartement\"] for c in communes)))"
   ]
  },
  {
   "cell_type": "code",
   "execution_count": null,
   "metadata": {},
   "outputs": [],
   "source": [
    "def load_dept_geojson(codeDept):\n",
    "    try:\n",
    "        resp = requests.get(f\"https://geo.api.gouv.fr/departements/{codeDept}/communes?format=geojson&geometry=contour\")\n",
    "        if not resp.status_code == 200:\n",
    "            raise Exception(f\"Error when querying geo.api.gouv.fr: {resp.status_code}\")\n",
    "        data = json.loads(resp.content)\n",
    "        return data\n",
    "    except Exception as e:\n",
    "        raise e"
   ]
  },
  {
   "cell_type": "code",
   "execution_count": null,
   "metadata": {},
   "outputs": [],
   "source": [
    "communes_dept_path = Path(\"communes_par_dept.json\")\n",
    "\n",
    "if not communes_dept_path.exists():\n",
    "    logger.info(\"Fetch commune GeoJSON data from https://geo.api.gouv.fr/departements/<codeDept>/communes\")\n",
    "    communes_geojson = [load_dept_geojson(d) for d in departements]\n",
    "\n",
    "    with open(communes_dept_path, \"w\") as f:\n",
    "        f.write(json.dumps(communes_geojson))\n",
    "    logger.info(f\"Commune geographical data fetched and saved at {communes_dept_path}\")\n",
    "else:\n",
    "    logger.info(\"Reading commune GeoJSON data from disk\")\n",
    "    with open(communes_dept_path, \"r\") as f:\n",
    "        communes_geojson = json.loads(f.read())"
   ]
  },
  {
   "cell_type": "markdown",
   "metadata": {},
   "source": [
    "### 1.3. Change to GeoDataFrame"
   ]
  },
  {
   "cell_type": "code",
   "execution_count": null,
   "metadata": {},
   "outputs": [],
   "source": [
    "comm_gdf = pd.concat([gpd.GeoDataFrame.from_features(dept) for dept in communes_geojson])"
   ]
  },
  {
   "cell_type": "code",
   "execution_count": null,
   "metadata": {},
   "outputs": [],
   "source": [
    "comm_gdf = comm_gdf.reset_index(drop=True)"
   ]
  },
  {
   "cell_type": "code",
   "execution_count": null,
   "metadata": {},
   "outputs": [],
   "source": [
    "comm_gdf.set_crs(\"EPSG:3857\", inplace=True)"
   ]
  },
  {
   "cell_type": "code",
   "execution_count": null,
   "metadata": {},
   "outputs": [],
   "source": [
    "# Filtrer sur département métropolitains uniquement\n",
    "\n",
    "dept_domtom = [\"971\", \"972\", \"973\", \"974\", \"975\", \"976\", \"977\", \"978\", \"984\", \"986\", \"987\", \"988\", \"989\"]\n",
    "\n",
    "metro_gdf = comm_gdf[~comm_gdf.codeDepartement.isin(dept_domtom)].copy()"
   ]
  },
  {
   "cell_type": "code",
   "execution_count": null,
   "metadata": {},
   "outputs": [],
   "source": [
    "metro_gdf[\"nomDepartement\"] = metro_gdf.codeDepartement.apply(lambda code: DEPARTEMENTS[code])"
   ]
  },
  {
   "cell_type": "code",
   "execution_count": null,
   "metadata": {},
   "outputs": [],
   "source": [
    "metro_gdf"
   ]
  },
  {
   "cell_type": "code",
   "execution_count": null,
   "metadata": {},
   "outputs": [],
   "source": [
    "# Uncomment for map display\n",
    "\n",
    "metro_gdf.simplify(tolerance=1e-3).plot()"
   ]
  },
  {
   "cell_type": "markdown",
   "metadata": {},
   "source": [
    "## Display polygons on the map"
   ]
  },
  {
   "cell_type": "code",
   "execution_count": null,
   "metadata": {},
   "outputs": [],
   "source": [
    "metro_departements = metro_gdf[\"nomDepartement\"].unique()"
   ]
  },
  {
   "cell_type": "code",
   "execution_count": null,
   "metadata": {},
   "outputs": [],
   "source": [
    "m = folium.Map(location=[48.85341, 2.3488], zoom_start=7, prefer_canvas=True)"
   ]
  },
  {
   "cell_type": "code",
   "execution_count": null,
   "metadata": {},
   "outputs": [],
   "source": [
    "cmap = branca.colormap.linear.BrBG_03.scale(0, len(metro_departements))\n",
    "cmap"
   ]
  },
  {
   "cell_type": "code",
   "execution_count": null,
   "metadata": {},
   "outputs": [],
   "source": [
    "for i, dept in enumerate(metro_departements):\n",
    "    dept_geom = (\n",
    "        metro_gdf.loc[metro_gdf.nomDepartement == dept, [\"nom\", \"geometry\", \"nomDepartement\"]]\n",
    "        .reset_index(drop=True)\n",
    "        .copy()\n",
    "    )\n",
    "    # dept_geom.geometry = dept_geom.simplify(tolerance=0.001)\n",
    "\n",
    "    fg = folium.FeatureGroup(name=dept)\n",
    "\n",
    "    print(f\"{dept} - added {len(dept_geom)} polygons\")\n",
    "\n",
    "    # Version to add all communes individually (with tooltip)\n",
    "    # for _, row in dept_geom[:3].iterrows():\n",
    "    #     geoj = folium.GeoJson(\n",
    "    #         data=row.to_json(),\n",
    "    #         # style_function=lambda x: {\n",
    "    #         #    'fillColor': 'orange',\n",
    "    #         #    \"weight\": 0,\n",
    "    #         # },\n",
    "    #         # smooth_factor=2,\n",
    "    #     )\n",
    "    #     folium.features.GeoJsonPopup(fields=[\"nom\"], labels=False).add_to(geoj)\n",
    "    #     geoj.add_to(fg)\n",
    "\n",
    "    # Version to add department data at once (but cannot add tooltip with commune name)\n",
    "    dept_json = dept_geom.simplify(tolerance=0.001).to_json()\n",
    "    geoj = folium.GeoJson(\n",
    "        data=dept_json,\n",
    "        # Styling options for folium are here: https://leafletjs.com/reference.html#path-option\n",
    "        style_function=lambda x: {\"weight\": 1, \"fillColor\": cmap(i)},\n",
    "        smooth_factor=2,\n",
    "    )\n",
    "    geoj.add_to(fg)\n",
    "    fg.add_to(m)\n",
    "\n",
    "folium.LayerControl().add_to(m)"
   ]
  },
  {
   "cell_type": "code",
   "execution_count": null,
   "metadata": {},
   "outputs": [],
   "source": [
    "m"
   ]
  },
  {
   "cell_type": "code",
   "execution_count": null,
   "metadata": {},
   "outputs": [],
   "source": [
    "m.save(\"exported_map_grouped_by_dept.html\")"
   ]
  },
  {
   "cell_type": "code",
   "execution_count": null,
   "metadata": {},
   "outputs": [],
   "source": []
  },
  {
   "cell_type": "code",
   "execution_count": null,
   "metadata": {},
   "outputs": [],
   "source": [
    "for _, row in metro_gdf.iterrows():\n",
    "    sim_geo = gpd.GeoSeries(row[\"geometry\"]).simplify(tolerance=0.001)\n",
    "    geo_j = sim_geo.to_json()\n",
    "    geo_j = folium.GeoJson(\n",
    "        data=geo_j,\n",
    "        # style_function=lambda x: {'fillColor': 'orange'},\n",
    "    )\n",
    "    folium.Popup(row[\"nom\"]).add_to(geo_j)\n",
    "    geo_j.add_to(m)"
   ]
  },
  {
   "cell_type": "code",
   "execution_count": null,
   "metadata": {},
   "outputs": [],
   "source": [
    "m"
   ]
  },
  {
   "cell_type": "code",
   "execution_count": null,
   "metadata": {},
   "outputs": [],
   "source": [
    "m.save(\"exported_map.html\")"
   ]
  },
  {
   "cell_type": "code",
   "execution_count": null,
   "metadata": {},
   "outputs": [],
   "source": []
  }
 ],
 "metadata": {
  "kernelspec": {
   "display_name": "Python 3 (ipykernel)",
   "language": "python",
   "name": "python3"
  },
  "language_info": {
   "codemirror_mode": {
    "name": "ipython",
    "version": 3
   },
   "file_extension": ".py",
   "mimetype": "text/x-python",
   "name": "python",
   "nbconvert_exporter": "python",
   "pygments_lexer": "ipython3",
   "version": "3.10.10"
  },
  "vscode": {
   "interpreter": {
    "hash": "03b15fab1a8b98f51b2963840955ca95c8af9b903a501dcc004c03dc4f32ba4d"
   }
  }
 },
 "nbformat": 4,
 "nbformat_minor": 2
}
